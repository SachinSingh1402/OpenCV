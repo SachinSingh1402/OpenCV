{
 "cells": [
  {
   "cell_type": "markdown",
   "metadata": {},
   "source": [
    "# OpenCV"
   ]
  },
  {
   "cell_type": "markdown",
   "metadata": {},
   "source": [
    "Installing Packages"
   ]
  },
  {
   "cell_type": "code",
   "execution_count": 3,
   "metadata": {},
   "outputs": [
    {
     "name": "stdout",
     "output_type": "stream",
     "text": [
      "Requirement already satisfied: opencv-python in c:\\users\\sachi\\appdata\\local\\packages\\pythonsoftwarefoundation.python.3.11_qbz5n2kfra8p0\\localcache\\local-packages\\python311\\site-packages (4.10.0.84)\n",
      "Requirement already satisfied: numpy>=1.21.2 in c:\\users\\sachi\\appdata\\local\\packages\\pythonsoftwarefoundation.python.3.11_qbz5n2kfra8p0\\localcache\\local-packages\\python311\\site-packages (from opencv-python) (2.0.0)\n",
      "Note: you may need to restart the kernel to use updated packages.\n"
     ]
    },
    {
     "name": "stderr",
     "output_type": "stream",
     "text": [
      "\n",
      "[notice] A new release of pip is available: 24.0 -> 24.2\n",
      "[notice] To update, run: C:\\Users\\sachi\\AppData\\Local\\Microsoft\\WindowsApps\\PythonSoftwareFoundation.Python.3.11_qbz5n2kfra8p0\\python.exe -m pip install --upgrade pip\n"
     ]
    }
   ],
   "source": [
    "pip install opencv-python"
   ]
  },
  {
   "cell_type": "code",
   "execution_count": 4,
   "metadata": {},
   "outputs": [
    {
     "name": "stdout",
     "output_type": "stream",
     "text": [
      "Requirement already satisfied: opencv-contrib-python in c:\\users\\sachi\\appdata\\local\\packages\\pythonsoftwarefoundation.python.3.11_qbz5n2kfra8p0\\localcache\\local-packages\\python311\\site-packages (4.10.0.84)\n",
      "Requirement already satisfied: numpy>=1.21.2 in c:\\users\\sachi\\appdata\\local\\packages\\pythonsoftwarefoundation.python.3.11_qbz5n2kfra8p0\\localcache\\local-packages\\python311\\site-packages (from opencv-contrib-python) (2.0.0)\n",
      "Note: you may need to restart the kernel to use updated packages.\n"
     ]
    },
    {
     "name": "stderr",
     "output_type": "stream",
     "text": [
      "\n",
      "[notice] A new release of pip is available: 24.0 -> 24.2\n",
      "[notice] To update, run: C:\\Users\\sachi\\AppData\\Local\\Microsoft\\WindowsApps\\PythonSoftwareFoundation.Python.3.11_qbz5n2kfra8p0\\python.exe -m pip install --upgrade pip\n"
     ]
    }
   ],
   "source": [
    "pip install opencv-contrib-python"
   ]
  },
  {
   "cell_type": "code",
   "execution_count": 5,
   "metadata": {},
   "outputs": [
    {
     "name": "stdout",
     "output_type": "stream",
     "text": [
      "Requirement already satisfied: caer in c:\\users\\sachi\\appdata\\local\\packages\\pythonsoftwarefoundation.python.3.11_qbz5n2kfra8p0\\localcache\\local-packages\\python311\\site-packages (2.0.8)\n",
      "Requirement already satisfied: mypy in c:\\users\\sachi\\appdata\\local\\packages\\pythonsoftwarefoundation.python.3.11_qbz5n2kfra8p0\\localcache\\local-packages\\python311\\site-packages (from caer) (1.11.0)\n",
      "Requirement already satisfied: numpy in c:\\users\\sachi\\appdata\\local\\packages\\pythonsoftwarefoundation.python.3.11_qbz5n2kfra8p0\\localcache\\local-packages\\python311\\site-packages (from caer) (2.0.0)\n",
      "Requirement already satisfied: opencv-contrib-python in c:\\users\\sachi\\appdata\\local\\packages\\pythonsoftwarefoundation.python.3.11_qbz5n2kfra8p0\\localcache\\local-packages\\python311\\site-packages (from caer) (4.10.0.84)\n",
      "Requirement already satisfied: typing-extensions in c:\\users\\sachi\\appdata\\local\\packages\\pythonsoftwarefoundation.python.3.11_qbz5n2kfra8p0\\localcache\\local-packages\\python311\\site-packages (from caer) (4.12.2)\n",
      "Requirement already satisfied: mypy-extensions>=1.0.0 in c:\\users\\sachi\\appdata\\local\\packages\\pythonsoftwarefoundation.python.3.11_qbz5n2kfra8p0\\localcache\\local-packages\\python311\\site-packages (from mypy->caer) (1.0.0)\n",
      "Note: you may need to restart the kernel to use updated packages.\n"
     ]
    },
    {
     "name": "stderr",
     "output_type": "stream",
     "text": [
      "\n",
      "[notice] A new release of pip is available: 24.0 -> 24.2\n",
      "[notice] To update, run: C:\\Users\\sachi\\AppData\\Local\\Microsoft\\WindowsApps\\PythonSoftwareFoundation.Python.3.11_qbz5n2kfra8p0\\python.exe -m pip install --upgrade pip\n"
     ]
    }
   ],
   "source": [
    "pip install caer"
   ]
  },
  {
   "cell_type": "code",
   "execution_count": 2,
   "metadata": {},
   "outputs": [
    {
     "name": "stdout",
     "output_type": "stream",
     "text": [
      "Collecting mediapipe\n",
      "  Using cached mediapipe-0.10.14-cp311-cp311-win_amd64.whl.metadata (9.9 kB)\n",
      "Collecting absl-py (from mediapipe)\n",
      "  Using cached absl_py-2.1.0-py3-none-any.whl.metadata (2.3 kB)\n",
      "Collecting attrs>=19.1.0 (from mediapipe)\n",
      "  Using cached attrs-24.1.0-py3-none-any.whl.metadata (14 kB)\n",
      "Collecting flatbuffers>=2.0 (from mediapipe)\n",
      "  Using cached flatbuffers-24.3.25-py2.py3-none-any.whl.metadata (850 bytes)\n",
      "Collecting jax (from mediapipe)\n",
      "  Using cached jax-0.4.31-py3-none-any.whl.metadata (22 kB)\n",
      "Collecting jaxlib (from mediapipe)\n",
      "  Using cached jaxlib-0.4.31-cp311-cp311-win_amd64.whl.metadata (1.0 kB)\n",
      "Requirement already satisfied: matplotlib in c:\\users\\sachi\\appdata\\local\\packages\\pythonsoftwarefoundation.python.3.11_qbz5n2kfra8p0\\localcache\\local-packages\\python311\\site-packages (from mediapipe) (3.9.0)\n",
      "Requirement already satisfied: numpy in c:\\users\\sachi\\appdata\\local\\packages\\pythonsoftwarefoundation.python.3.11_qbz5n2kfra8p0\\localcache\\local-packages\\python311\\site-packages (from mediapipe) (2.0.0)\n",
      "Requirement already satisfied: opencv-contrib-python in c:\\users\\sachi\\appdata\\local\\packages\\pythonsoftwarefoundation.python.3.11_qbz5n2kfra8p0\\localcache\\local-packages\\python311\\site-packages (from mediapipe) (4.10.0.84)\n",
      "Collecting protobuf<5,>=4.25.3 (from mediapipe)\n",
      "  Using cached protobuf-4.25.4-cp310-abi3-win_amd64.whl.metadata (541 bytes)\n",
      "Collecting sounddevice>=0.4.4 (from mediapipe)\n",
      "  Using cached sounddevice-0.4.7-py3-none-win_amd64.whl.metadata (1.4 kB)\n",
      "Collecting CFFI>=1.0 (from sounddevice>=0.4.4->mediapipe)\n",
      "  Using cached cffi-1.16.0-cp311-cp311-win_amd64.whl.metadata (1.5 kB)\n",
      "Collecting ml-dtypes>=0.2.0 (from jax->mediapipe)\n",
      "  Using cached ml_dtypes-0.4.0-cp311-cp311-win_amd64.whl.metadata (20 kB)\n",
      "Collecting opt-einsum (from jax->mediapipe)\n",
      "  Using cached opt_einsum-3.3.0-py3-none-any.whl.metadata (6.5 kB)\n",
      "Requirement already satisfied: scipy>=1.10 in c:\\users\\sachi\\appdata\\local\\packages\\pythonsoftwarefoundation.python.3.11_qbz5n2kfra8p0\\localcache\\local-packages\\python311\\site-packages (from jax->mediapipe) (1.13.1)\n",
      "Requirement already satisfied: contourpy>=1.0.1 in c:\\users\\sachi\\appdata\\local\\packages\\pythonsoftwarefoundation.python.3.11_qbz5n2kfra8p0\\localcache\\local-packages\\python311\\site-packages (from matplotlib->mediapipe) (1.2.1)\n",
      "Requirement already satisfied: cycler>=0.10 in c:\\users\\sachi\\appdata\\local\\packages\\pythonsoftwarefoundation.python.3.11_qbz5n2kfra8p0\\localcache\\local-packages\\python311\\site-packages (from matplotlib->mediapipe) (0.12.1)\n",
      "Requirement already satisfied: fonttools>=4.22.0 in c:\\users\\sachi\\appdata\\local\\packages\\pythonsoftwarefoundation.python.3.11_qbz5n2kfra8p0\\localcache\\local-packages\\python311\\site-packages (from matplotlib->mediapipe) (4.53.0)\n",
      "Requirement already satisfied: kiwisolver>=1.3.1 in c:\\users\\sachi\\appdata\\local\\packages\\pythonsoftwarefoundation.python.3.11_qbz5n2kfra8p0\\localcache\\local-packages\\python311\\site-packages (from matplotlib->mediapipe) (1.4.5)\n",
      "Requirement already satisfied: packaging>=20.0 in c:\\users\\sachi\\appdata\\local\\packages\\pythonsoftwarefoundation.python.3.11_qbz5n2kfra8p0\\localcache\\local-packages\\python311\\site-packages (from matplotlib->mediapipe) (24.1)\n",
      "Requirement already satisfied: pillow>=8 in c:\\users\\sachi\\appdata\\local\\packages\\pythonsoftwarefoundation.python.3.11_qbz5n2kfra8p0\\localcache\\local-packages\\python311\\site-packages (from matplotlib->mediapipe) (10.3.0)\n",
      "Requirement already satisfied: pyparsing>=2.3.1 in c:\\users\\sachi\\appdata\\local\\packages\\pythonsoftwarefoundation.python.3.11_qbz5n2kfra8p0\\localcache\\local-packages\\python311\\site-packages (from matplotlib->mediapipe) (3.1.2)\n",
      "Requirement already satisfied: python-dateutil>=2.7 in c:\\users\\sachi\\appdata\\local\\packages\\pythonsoftwarefoundation.python.3.11_qbz5n2kfra8p0\\localcache\\local-packages\\python311\\site-packages (from matplotlib->mediapipe) (2.9.0.post0)\n",
      "Collecting pycparser (from CFFI>=1.0->sounddevice>=0.4.4->mediapipe)\n",
      "  Using cached pycparser-2.22-py3-none-any.whl.metadata (943 bytes)\n",
      "Requirement already satisfied: six>=1.5 in c:\\users\\sachi\\appdata\\local\\packages\\pythonsoftwarefoundation.python.3.11_qbz5n2kfra8p0\\localcache\\local-packages\\python311\\site-packages (from python-dateutil>=2.7->matplotlib->mediapipe) (1.16.0)\n",
      "Using cached mediapipe-0.10.14-cp311-cp311-win_amd64.whl (50.8 MB)\n",
      "Using cached attrs-24.1.0-py3-none-any.whl (63 kB)\n",
      "Using cached flatbuffers-24.3.25-py2.py3-none-any.whl (26 kB)\n",
      "Using cached protobuf-4.25.4-cp310-abi3-win_amd64.whl (413 kB)\n",
      "Using cached sounddevice-0.4.7-py3-none-win_amd64.whl (200 kB)\n",
      "Using cached absl_py-2.1.0-py3-none-any.whl (133 kB)\n",
      "Using cached jax-0.4.31-py3-none-any.whl (2.0 MB)\n",
      "Downloading jaxlib-0.4.31-cp311-cp311-win_amd64.whl (56.3 MB)\n",
      "   ---------------------------------------- 0.0/56.3 MB ? eta -:--:--\n",
      "   ---------------------------------------- 0.0/56.3 MB ? eta -:--:--\n",
      "   ---------------------------------------- 0.0/56.3 MB ? eta -:--:--\n",
      "   ---------------------------------------- 0.0/56.3 MB ? eta -:--:--\n",
      "   ---------------------------------------- 0.0/56.3 MB 217.9 kB/s eta 0:04:19\n",
      "   ---------------------------------------- 0.0/56.3 MB 196.9 kB/s eta 0:04:46\n",
      "   ---------------------------------------- 0.0/56.3 MB 196.9 kB/s eta 0:04:46\n",
      "   ---------------------------------------- 0.1/56.3 MB 327.3 kB/s eta 0:02:52\n",
      "   ---------------------------------------- 0.1/56.3 MB 327.7 kB/s eta 0:02:52\n",
      "   ---------------------------------------- 0.1/56.3 MB 327.7 kB/s eta 0:02:52\n",
      "   ---------------------------------------- 0.1/56.3 MB 327.7 kB/s eta 0:02:52\n",
      "   ---------------------------------------- 0.1/56.3 MB 288.8 kB/s eta 0:03:15\n",
      "   ---------------------------------------- 0.1/56.3 MB 288.8 kB/s eta 0:03:15\n",
      "   ---------------------------------------- 0.2/56.3 MB 349.3 kB/s eta 0:02:41\n",
      "   ---------------------------------------- 0.2/56.3 MB 417.6 kB/s eta 0:02:15\n",
      "   ---------------------------------------- 0.2/56.3 MB 407.5 kB/s eta 0:02:18\n",
      "   ---------------------------------------- 0.3/56.3 MB 413.7 kB/s eta 0:02:16\n",
      "   ---------------------------------------- 0.3/56.3 MB 483.9 kB/s eta 0:01:56\n",
      "   ---------------------------------------- 0.4/56.3 MB 551.5 kB/s eta 0:01:42\n",
      "   ---------------------------------------- 0.5/56.3 MB 669.6 kB/s eta 0:01:24\n",
      "   ---------------------------------------- 0.5/56.3 MB 668.7 kB/s eta 0:01:24\n",
      "   ---------------------------------------- 0.6/56.3 MB 692.6 kB/s eta 0:01:21\n",
      "   ---------------------------------------- 0.6/56.3 MB 702.2 kB/s eta 0:01:20\n",
      "    --------------------------------------- 0.7/56.3 MB 791.2 kB/s eta 0:01:11\n",
      "    --------------------------------------- 0.8/56.3 MB 805.9 kB/s eta 0:01:09\n",
      "    --------------------------------------- 0.8/56.3 MB 853.3 kB/s eta 0:01:05\n",
      "    --------------------------------------- 0.9/56.3 MB 834.3 kB/s eta 0:01:07\n",
      "    --------------------------------------- 0.9/56.3 MB 838.9 kB/s eta 0:01:07\n",
      "    --------------------------------------- 0.9/56.3 MB 845.4 kB/s eta 0:01:06\n",
      "    --------------------------------------- 1.0/56.3 MB 859.2 kB/s eta 0:01:05\n",
      "    --------------------------------------- 1.1/56.3 MB 893.8 kB/s eta 0:01:02\n",
      "    --------------------------------------- 1.2/56.3 MB 925.7 kB/s eta 0:01:00\n",
      "    --------------------------------------- 1.2/56.3 MB 967.2 kB/s eta 0:00:57\n",
      "    --------------------------------------- 1.3/56.3 MB 963.9 kB/s eta 0:00:58\n",
      "    --------------------------------------- 1.4/56.3 MB 990.5 kB/s eta 0:00:56\n",
      "   - -------------------------------------- 1.4/56.3 MB 1.0 MB/s eta 0:00:55\n",
      "   - -------------------------------------- 1.5/56.3 MB 1.0 MB/s eta 0:00:54\n",
      "   - -------------------------------------- 1.6/56.3 MB 1.1 MB/s eta 0:00:52\n",
      "   - -------------------------------------- 1.7/56.3 MB 1.1 MB/s eta 0:00:51\n",
      "   - -------------------------------------- 1.7/56.3 MB 1.1 MB/s eta 0:00:51\n",
      "   - -------------------------------------- 1.8/56.3 MB 1.1 MB/s eta 0:00:50\n",
      "   - -------------------------------------- 1.9/56.3 MB 1.1 MB/s eta 0:00:48\n",
      "   - -------------------------------------- 2.0/56.3 MB 1.1 MB/s eta 0:00:48\n",
      "   - -------------------------------------- 2.0/56.3 MB 1.2 MB/s eta 0:00:48\n",
      "   - -------------------------------------- 2.1/56.3 MB 1.1 MB/s eta 0:00:48\n",
      "   - -------------------------------------- 2.1/56.3 MB 1.1 MB/s eta 0:00:48\n",
      "   - -------------------------------------- 2.2/56.3 MB 1.1 MB/s eta 0:00:48\n",
      "   - -------------------------------------- 2.2/56.3 MB 1.1 MB/s eta 0:00:48\n",
      "   - -------------------------------------- 2.3/56.3 MB 1.2 MB/s eta 0:00:47\n",
      "   - -------------------------------------- 2.4/56.3 MB 1.2 MB/s eta 0:00:46\n",
      "   - -------------------------------------- 2.5/56.3 MB 1.2 MB/s eta 0:00:46\n",
      "   - -------------------------------------- 2.6/56.3 MB 1.2 MB/s eta 0:00:45\n",
      "   - -------------------------------------- 2.7/56.3 MB 1.2 MB/s eta 0:00:44\n",
      "   - -------------------------------------- 2.7/56.3 MB 1.2 MB/s eta 0:00:44\n",
      "   - -------------------------------------- 2.8/56.3 MB 1.2 MB/s eta 0:00:44\n",
      "   -- ------------------------------------- 2.9/56.3 MB 1.3 MB/s eta 0:00:43\n",
      "   -- ------------------------------------- 2.9/56.3 MB 1.3 MB/s eta 0:00:42\n",
      "   -- ------------------------------------- 3.0/56.3 MB 1.3 MB/s eta 0:00:42\n",
      "   -- ------------------------------------- 3.1/56.3 MB 1.3 MB/s eta 0:00:41\n",
      "   -- ------------------------------------- 3.2/56.3 MB 1.3 MB/s eta 0:00:41\n",
      "   -- ------------------------------------- 3.3/56.3 MB 1.3 MB/s eta 0:00:40\n",
      "   -- ------------------------------------- 3.3/56.3 MB 1.3 MB/s eta 0:00:40\n",
      "   -- ------------------------------------- 3.4/56.3 MB 1.3 MB/s eta 0:00:40\n",
      "   -- ------------------------------------- 3.4/56.3 MB 1.3 MB/s eta 0:00:40\n",
      "   -- ------------------------------------- 3.6/56.3 MB 1.3 MB/s eta 0:00:40\n",
      "   -- ------------------------------------- 3.6/56.3 MB 1.3 MB/s eta 0:00:40\n",
      "   -- ------------------------------------- 3.8/56.3 MB 1.4 MB/s eta 0:00:39\n",
      "   -- ------------------------------------- 3.9/56.3 MB 1.4 MB/s eta 0:00:39\n",
      "   -- ------------------------------------- 4.0/56.3 MB 1.4 MB/s eta 0:00:38\n",
      "   -- ------------------------------------- 4.2/56.3 MB 1.4 MB/s eta 0:00:37\n",
      "   --- ------------------------------------ 4.4/56.3 MB 1.5 MB/s eta 0:00:36\n",
      "   --- ------------------------------------ 4.5/56.3 MB 1.5 MB/s eta 0:00:35\n",
      "   --- ------------------------------------ 4.6/56.3 MB 1.5 MB/s eta 0:00:35\n",
      "   --- ------------------------------------ 4.7/56.3 MB 1.5 MB/s eta 0:00:34\n",
      "   --- ------------------------------------ 4.8/56.3 MB 1.5 MB/s eta 0:00:34\n",
      "   --- ------------------------------------ 4.9/56.3 MB 1.5 MB/s eta 0:00:34\n",
      "   --- ------------------------------------ 5.0/56.3 MB 1.6 MB/s eta 0:00:33\n",
      "   --- ------------------------------------ 5.2/56.3 MB 1.6 MB/s eta 0:00:33\n",
      "   --- ------------------------------------ 5.2/56.3 MB 1.6 MB/s eta 0:00:33\n",
      "   --- ------------------------------------ 5.3/56.3 MB 1.6 MB/s eta 0:00:33\n",
      "   --- ------------------------------------ 5.3/56.3 MB 1.6 MB/s eta 0:00:33\n",
      "   --- ------------------------------------ 5.5/56.3 MB 1.6 MB/s eta 0:00:33\n",
      "   --- ------------------------------------ 5.6/56.3 MB 1.6 MB/s eta 0:00:32\n",
      "   ---- ----------------------------------- 5.7/56.3 MB 1.6 MB/s eta 0:00:32\n",
      "   ---- ----------------------------------- 5.8/56.3 MB 1.6 MB/s eta 0:00:32\n",
      "   ---- ----------------------------------- 5.9/56.3 MB 1.6 MB/s eta 0:00:31\n",
      "   ---- ----------------------------------- 6.0/56.3 MB 1.6 MB/s eta 0:00:31\n",
      "   ---- ----------------------------------- 6.2/56.3 MB 1.7 MB/s eta 0:00:31\n",
      "   ---- ----------------------------------- 6.3/56.3 MB 1.7 MB/s eta 0:00:30\n",
      "   ---- ----------------------------------- 6.4/56.3 MB 1.7 MB/s eta 0:00:30\n",
      "   ---- ----------------------------------- 6.5/56.3 MB 1.7 MB/s eta 0:00:30\n",
      "   ---- ----------------------------------- 6.6/56.3 MB 1.7 MB/s eta 0:00:30\n",
      "   ---- ----------------------------------- 6.7/56.3 MB 1.7 MB/s eta 0:00:29\n",
      "   ---- ----------------------------------- 6.9/56.3 MB 1.7 MB/s eta 0:00:29\n",
      "   ---- ----------------------------------- 6.9/56.3 MB 1.7 MB/s eta 0:00:29\n",
      "   ---- ----------------------------------- 7.0/56.3 MB 1.7 MB/s eta 0:00:29\n",
      "   ----- ---------------------------------- 7.0/56.3 MB 1.7 MB/s eta 0:00:29\n",
      "   ----- ---------------------------------- 7.1/56.3 MB 1.7 MB/s eta 0:00:29\n",
      "   ----- ---------------------------------- 7.3/56.3 MB 1.7 MB/s eta 0:00:29\n",
      "   ----- ---------------------------------- 7.4/56.3 MB 1.7 MB/s eta 0:00:29\n",
      "   ----- ---------------------------------- 7.5/56.3 MB 1.8 MB/s eta 0:00:28\n",
      "   ----- ---------------------------------- 7.6/56.3 MB 1.8 MB/s eta 0:00:28\n",
      "   ----- ---------------------------------- 7.8/56.3 MB 1.8 MB/s eta 0:00:28\n",
      "   ----- ---------------------------------- 7.9/56.3 MB 1.8 MB/s eta 0:00:28\n",
      "   ----- ---------------------------------- 8.0/56.3 MB 1.8 MB/s eta 0:00:27\n",
      "   ----- ---------------------------------- 8.1/56.3 MB 1.8 MB/s eta 0:00:27\n",
      "   ----- ---------------------------------- 8.3/56.3 MB 1.8 MB/s eta 0:00:27\n",
      "   ----- ---------------------------------- 8.4/56.3 MB 1.8 MB/s eta 0:00:27\n",
      "   ------ --------------------------------- 8.5/56.3 MB 1.8 MB/s eta 0:00:27\n",
      "   ------ --------------------------------- 8.6/56.3 MB 1.8 MB/s eta 0:00:27\n",
      "   ------ --------------------------------- 8.7/56.3 MB 1.8 MB/s eta 0:00:27\n",
      "   ------ --------------------------------- 8.7/56.3 MB 1.8 MB/s eta 0:00:27\n",
      "   ------ --------------------------------- 8.8/56.3 MB 1.8 MB/s eta 0:00:26\n",
      "   ------ --------------------------------- 9.0/56.3 MB 1.9 MB/s eta 0:00:26\n",
      "   ------ --------------------------------- 9.4/56.3 MB 1.9 MB/s eta 0:00:25\n",
      "   ------ --------------------------------- 9.7/56.3 MB 1.9 MB/s eta 0:00:24\n",
      "   ------- -------------------------------- 10.0/56.3 MB 2.0 MB/s eta 0:00:24\n",
      "   ------- -------------------------------- 10.1/56.3 MB 2.0 MB/s eta 0:00:23\n",
      "   ------- -------------------------------- 10.4/56.3 MB 2.2 MB/s eta 0:00:21\n",
      "   ------- -------------------------------- 10.6/56.3 MB 2.3 MB/s eta 0:00:20\n",
      "   ------- -------------------------------- 10.8/56.3 MB 2.4 MB/s eta 0:00:20\n",
      "   ------- -------------------------------- 11.2/56.3 MB 2.5 MB/s eta 0:00:18\n",
      "   -------- ------------------------------- 11.6/56.3 MB 2.6 MB/s eta 0:00:18\n",
      "   -------- ------------------------------- 11.9/56.3 MB 2.7 MB/s eta 0:00:17\n",
      "   -------- ------------------------------- 12.2/56.3 MB 2.8 MB/s eta 0:00:16\n",
      "   -------- ------------------------------- 12.5/56.3 MB 2.9 MB/s eta 0:00:15\n",
      "   -------- ------------------------------- 12.5/56.3 MB 2.9 MB/s eta 0:00:15\n",
      "   --------- ------------------------------ 12.8/56.3 MB 3.0 MB/s eta 0:00:15\n",
      "   --------- ------------------------------ 12.9/56.3 MB 3.0 MB/s eta 0:00:15\n",
      "   --------- ------------------------------ 13.1/56.3 MB 3.1 MB/s eta 0:00:14\n",
      "   --------- ------------------------------ 13.4/56.3 MB 3.2 MB/s eta 0:00:14\n",
      "   --------- ------------------------------ 13.7/56.3 MB 3.4 MB/s eta 0:00:13\n",
      "   --------- ------------------------------ 14.1/56.3 MB 3.5 MB/s eta 0:00:13\n",
      "   ---------- ----------------------------- 14.3/56.3 MB 3.6 MB/s eta 0:00:12\n",
      "   ---------- ----------------------------- 14.6/56.3 MB 3.6 MB/s eta 0:00:12\n",
      "   ---------- ----------------------------- 14.8/56.3 MB 3.7 MB/s eta 0:00:12\n",
      "   ---------- ----------------------------- 15.2/56.3 MB 3.8 MB/s eta 0:00:11\n",
      "   ---------- ----------------------------- 15.4/56.3 MB 3.8 MB/s eta 0:00:11\n",
      "   ----------- ---------------------------- 15.6/56.3 MB 4.0 MB/s eta 0:00:11\n",
      "   ----------- ---------------------------- 16.0/56.3 MB 4.1 MB/s eta 0:00:10\n",
      "   ----------- ---------------------------- 16.2/56.3 MB 4.3 MB/s eta 0:00:10\n",
      "   ----------- ---------------------------- 16.6/56.3 MB 4.4 MB/s eta 0:00:10\n",
      "   ----------- ---------------------------- 16.6/56.3 MB 4.4 MB/s eta 0:00:10\n",
      "   ------------ --------------------------- 16.9/56.3 MB 4.4 MB/s eta 0:00:09\n",
      "   ------------ --------------------------- 17.0/56.3 MB 4.4 MB/s eta 0:00:09\n",
      "   ------------ --------------------------- 17.2/56.3 MB 4.6 MB/s eta 0:00:09\n",
      "   ------------ --------------------------- 17.5/56.3 MB 4.8 MB/s eta 0:00:09\n",
      "   ------------ --------------------------- 17.8/56.3 MB 4.9 MB/s eta 0:00:08\n",
      "   ------------ --------------------------- 18.1/56.3 MB 5.2 MB/s eta 0:00:08\n",
      "   ------------- -------------------------- 18.4/56.3 MB 5.3 MB/s eta 0:00:08\n",
      "   ------------- -------------------------- 18.7/56.3 MB 5.5 MB/s eta 0:00:07\n",
      "   ------------- -------------------------- 19.0/56.3 MB 5.8 MB/s eta 0:00:07\n",
      "   ------------- -------------------------- 19.4/56.3 MB 6.0 MB/s eta 0:00:07\n",
      "   -------------- ------------------------- 19.7/56.3 MB 6.0 MB/s eta 0:00:07\n",
      "   -------------- ------------------------- 20.1/56.3 MB 6.0 MB/s eta 0:00:07\n",
      "   -------------- ------------------------- 20.4/56.3 MB 6.1 MB/s eta 0:00:06\n",
      "   -------------- ------------------------- 20.8/56.3 MB 6.1 MB/s eta 0:00:06\n",
      "   -------------- ------------------------- 21.0/56.3 MB 6.2 MB/s eta 0:00:06\n",
      "   --------------- ------------------------ 21.2/56.3 MB 6.2 MB/s eta 0:00:06\n",
      "   --------------- ------------------------ 21.3/56.3 MB 6.0 MB/s eta 0:00:06\n",
      "   --------------- ------------------------ 21.6/56.3 MB 6.0 MB/s eta 0:00:06\n",
      "   --------------- ------------------------ 21.7/56.3 MB 5.8 MB/s eta 0:00:06\n",
      "   --------------- ------------------------ 22.0/56.3 MB 5.8 MB/s eta 0:00:06\n",
      "   --------------- ------------------------ 22.3/56.3 MB 5.9 MB/s eta 0:00:06\n",
      "   ---------------- ----------------------- 22.6/56.3 MB 5.9 MB/s eta 0:00:06\n",
      "   ---------------- ----------------------- 22.9/56.3 MB 6.0 MB/s eta 0:00:06\n",
      "   ---------------- ----------------------- 23.2/56.3 MB 6.1 MB/s eta 0:00:06\n",
      "   ---------------- ----------------------- 23.5/56.3 MB 6.2 MB/s eta 0:00:06\n",
      "   ---------------- ----------------------- 23.8/56.3 MB 6.2 MB/s eta 0:00:06\n",
      "   ----------------- ---------------------- 24.1/56.3 MB 6.2 MB/s eta 0:00:06\n",
      "   ----------------- ---------------------- 24.4/56.3 MB 6.2 MB/s eta 0:00:06\n",
      "   ----------------- ---------------------- 24.8/56.3 MB 6.2 MB/s eta 0:00:06\n",
      "   ----------------- ---------------------- 25.1/56.3 MB 6.2 MB/s eta 0:00:06\n",
      "   ------------------ --------------------- 25.4/56.3 MB 6.3 MB/s eta 0:00:05\n",
      "   ------------------ --------------------- 25.5/56.3 MB 6.3 MB/s eta 0:00:05\n",
      "   ------------------ --------------------- 25.8/56.3 MB 6.2 MB/s eta 0:00:05\n",
      "   ------------------ --------------------- 25.9/56.3 MB 6.2 MB/s eta 0:00:05\n",
      "   ------------------ --------------------- 26.2/56.3 MB 6.1 MB/s eta 0:00:05\n",
      "   ------------------ --------------------- 26.4/56.3 MB 6.0 MB/s eta 0:00:05\n",
      "   ------------------- -------------------- 26.8/56.3 MB 6.1 MB/s eta 0:00:05\n",
      "   ------------------- -------------------- 27.1/56.3 MB 6.2 MB/s eta 0:00:05\n",
      "   ------------------- -------------------- 27.4/56.3 MB 6.3 MB/s eta 0:00:05\n",
      "   ------------------- -------------------- 27.7/56.3 MB 6.4 MB/s eta 0:00:05\n",
      "   ------------------- -------------------- 28.0/56.3 MB 6.3 MB/s eta 0:00:05\n",
      "   -------------------- ------------------- 28.3/56.3 MB 6.3 MB/s eta 0:00:05\n",
      "   -------------------- ------------------- 28.6/56.3 MB 6.4 MB/s eta 0:00:05\n",
      "   -------------------- ------------------- 28.9/56.3 MB 6.3 MB/s eta 0:00:05\n",
      "   -------------------- ------------------- 29.3/56.3 MB 6.4 MB/s eta 0:00:05\n",
      "   --------------------- ------------------ 29.6/56.3 MB 6.3 MB/s eta 0:00:05\n",
      "   --------------------- ------------------ 29.9/56.3 MB 6.4 MB/s eta 0:00:05\n",
      "   --------------------- ------------------ 30.2/56.3 MB 6.3 MB/s eta 0:00:05\n",
      "   --------------------- ------------------ 30.5/56.3 MB 6.3 MB/s eta 0:00:05\n",
      "   --------------------- ------------------ 30.6/56.3 MB 6.2 MB/s eta 0:00:05\n",
      "   --------------------- ------------------ 30.8/56.3 MB 6.2 MB/s eta 0:00:05\n",
      "   --------------------- ------------------ 30.9/56.3 MB 6.0 MB/s eta 0:00:05\n",
      "   ---------------------- ----------------- 31.2/56.3 MB 6.0 MB/s eta 0:00:05\n",
      "   ---------------------- ----------------- 31.6/56.3 MB 6.2 MB/s eta 0:00:04\n",
      "   ---------------------- ----------------- 31.8/56.3 MB 6.2 MB/s eta 0:00:04\n",
      "   ---------------------- ----------------- 32.2/56.3 MB 6.4 MB/s eta 0:00:04\n",
      "   ----------------------- ---------------- 32.5/56.3 MB 6.4 MB/s eta 0:00:04\n",
      "   ----------------------- ---------------- 32.7/56.3 MB 6.3 MB/s eta 0:00:04\n",
      "   ----------------------- ---------------- 33.1/56.3 MB 6.3 MB/s eta 0:00:04\n",
      "   ----------------------- ---------------- 33.4/56.3 MB 6.4 MB/s eta 0:00:04\n",
      "   ----------------------- ---------------- 33.7/56.3 MB 6.4 MB/s eta 0:00:04\n",
      "   ------------------------ --------------- 33.9/56.3 MB 6.3 MB/s eta 0:00:04\n",
      "   ------------------------ --------------- 34.3/56.3 MB 6.4 MB/s eta 0:00:04\n",
      "   ------------------------ --------------- 34.6/56.3 MB 6.3 MB/s eta 0:00:04\n",
      "   ------------------------ --------------- 34.7/56.3 MB 6.2 MB/s eta 0:00:04\n",
      "   ------------------------ --------------- 34.9/56.3 MB 6.1 MB/s eta 0:00:04\n",
      "   ------------------------ --------------- 35.0/56.3 MB 6.0 MB/s eta 0:00:04\n",
      "   ------------------------- -------------- 35.3/56.3 MB 6.0 MB/s eta 0:00:04\n",
      "   ------------------------- -------------- 35.6/56.3 MB 6.0 MB/s eta 0:00:04\n",
      "   ------------------------- -------------- 35.9/56.3 MB 6.2 MB/s eta 0:00:04\n",
      "   ------------------------- -------------- 36.2/56.3 MB 6.3 MB/s eta 0:00:04\n",
      "   ------------------------- -------------- 36.6/56.3 MB 6.3 MB/s eta 0:00:04\n",
      "   -------------------------- ------------- 36.9/56.3 MB 6.3 MB/s eta 0:00:04\n",
      "   -------------------------- ------------- 37.2/56.3 MB 6.3 MB/s eta 0:00:04\n",
      "   -------------------------- ------------- 37.5/56.3 MB 6.4 MB/s eta 0:00:03\n",
      "   -------------------------- ------------- 37.8/56.3 MB 6.3 MB/s eta 0:00:03\n",
      "   --------------------------- ------------ 38.1/56.3 MB 6.4 MB/s eta 0:00:03\n",
      "   --------------------------- ------------ 38.4/56.3 MB 6.4 MB/s eta 0:00:03\n",
      "   --------------------------- ------------ 38.6/56.3 MB 6.3 MB/s eta 0:00:03\n",
      "   --------------------------- ------------ 39.0/56.3 MB 6.3 MB/s eta 0:00:03\n",
      "   --------------------------- ------------ 39.3/56.3 MB 6.3 MB/s eta 0:00:03\n",
      "   --------------------------- ------------ 39.4/56.3 MB 6.3 MB/s eta 0:00:03\n",
      "   ---------------------------- ----------- 39.6/56.3 MB 6.2 MB/s eta 0:00:03\n",
      "   ---------------------------- ----------- 39.7/56.3 MB 6.1 MB/s eta 0:00:03\n",
      "   ---------------------------- ----------- 40.1/56.3 MB 6.0 MB/s eta 0:00:03\n",
      "   ---------------------------- ----------- 40.3/56.3 MB 6.0 MB/s eta 0:00:03\n",
      "   ---------------------------- ----------- 40.6/56.3 MB 6.0 MB/s eta 0:00:03\n",
      "   ----------------------------- ---------- 41.0/56.3 MB 6.2 MB/s eta 0:00:03\n",
      "   ----------------------------- ---------- 41.3/56.3 MB 6.3 MB/s eta 0:00:03\n",
      "   ----------------------------- ---------- 41.6/56.3 MB 6.3 MB/s eta 0:00:03\n",
      "   ----------------------------- ---------- 41.9/56.3 MB 6.3 MB/s eta 0:00:03\n",
      "   ------------------------------ --------- 42.2/56.3 MB 6.3 MB/s eta 0:00:03\n",
      "   ------------------------------ --------- 42.5/56.3 MB 6.3 MB/s eta 0:00:03\n",
      "   ------------------------------ --------- 42.8/56.3 MB 6.3 MB/s eta 0:00:03\n",
      "   ------------------------------ --------- 43.2/56.3 MB 6.3 MB/s eta 0:00:03\n",
      "   ------------------------------ --------- 43.5/56.3 MB 6.4 MB/s eta 0:00:03\n",
      "   ------------------------------- -------- 43.8/56.3 MB 6.3 MB/s eta 0:00:02\n",
      "   ------------------------------- -------- 44.0/56.3 MB 6.2 MB/s eta 0:00:02\n",
      "   ------------------------------- -------- 44.1/56.3 MB 6.2 MB/s eta 0:00:02\n",
      "   ------------------------------- -------- 44.4/56.3 MB 6.1 MB/s eta 0:00:02\n",
      "   ------------------------------- -------- 44.7/56.3 MB 6.0 MB/s eta 0:00:02\n",
      "   ------------------------------- -------- 45.0/56.3 MB 6.2 MB/s eta 0:00:02\n",
      "   -------------------------------- ------- 45.3/56.3 MB 6.4 MB/s eta 0:00:02\n",
      "   -------------------------------- ------- 45.7/56.3 MB 6.4 MB/s eta 0:00:02\n",
      "   -------------------------------- ------- 45.9/56.3 MB 6.4 MB/s eta 0:00:02\n",
      "   -------------------------------- ------- 46.3/56.3 MB 6.4 MB/s eta 0:00:02\n",
      "   --------------------------------- ------ 46.6/56.3 MB 6.3 MB/s eta 0:00:02\n",
      "   --------------------------------- ------ 47.0/56.3 MB 6.3 MB/s eta 0:00:02\n",
      "   --------------------------------- ------ 47.2/56.3 MB 6.4 MB/s eta 0:00:02\n",
      "   --------------------------------- ------ 47.6/56.3 MB 6.3 MB/s eta 0:00:02\n",
      "   ---------------------------------- ----- 47.9/56.3 MB 6.3 MB/s eta 0:00:02\n",
      "   ---------------------------------- ----- 48.1/56.3 MB 6.4 MB/s eta 0:00:02\n",
      "   ---------------------------------- ----- 48.3/56.3 MB 6.1 MB/s eta 0:00:02\n",
      "   ---------------------------------- ----- 48.4/56.3 MB 6.2 MB/s eta 0:00:02\n",
      "   ---------------------------------- ----- 48.6/56.3 MB 6.1 MB/s eta 0:00:02\n",
      "   ---------------------------------- ----- 48.8/56.3 MB 6.0 MB/s eta 0:00:02\n",
      "   ---------------------------------- ----- 49.2/56.3 MB 6.0 MB/s eta 0:00:02\n",
      "   ----------------------------------- ---- 49.5/56.3 MB 6.0 MB/s eta 0:00:02\n",
      "   ----------------------------------- ---- 49.8/56.3 MB 6.2 MB/s eta 0:00:02\n",
      "   ----------------------------------- ---- 50.1/56.3 MB 6.3 MB/s eta 0:00:01\n",
      "   ----------------------------------- ---- 50.4/56.3 MB 6.3 MB/s eta 0:00:01\n",
      "   ------------------------------------ --- 50.7/56.3 MB 6.3 MB/s eta 0:00:01\n",
      "   ------------------------------------ --- 51.0/56.3 MB 6.4 MB/s eta 0:00:01\n",
      "   ------------------------------------ --- 51.3/56.3 MB 6.3 MB/s eta 0:00:01\n",
      "   ------------------------------------ --- 51.6/56.3 MB 6.3 MB/s eta 0:00:01\n",
      "   ------------------------------------ --- 51.8/56.3 MB 6.3 MB/s eta 0:00:01\n",
      "   ------------------------------------- -- 52.1/56.3 MB 6.3 MB/s eta 0:00:01\n",
      "   ------------------------------------- -- 52.4/56.3 MB 6.3 MB/s eta 0:00:01\n",
      "   ------------------------------------- -- 52.7/56.3 MB 6.3 MB/s eta 0:00:01\n",
      "   ------------------------------------- -- 52.8/56.3 MB 6.1 MB/s eta 0:00:01\n",
      "   ------------------------------------- -- 53.0/56.3 MB 6.1 MB/s eta 0:00:01\n",
      "   ------------------------------------- -- 53.1/56.3 MB 6.0 MB/s eta 0:00:01\n",
      "   ------------------------------------- -- 53.5/56.3 MB 6.0 MB/s eta 0:00:01\n",
      "   -------------------------------------- - 53.8/56.3 MB 6.0 MB/s eta 0:00:01\n",
      "   -------------------------------------- - 54.1/56.3 MB 6.1 MB/s eta 0:00:01\n",
      "   -------------------------------------- - 54.4/56.3 MB 6.2 MB/s eta 0:00:01\n",
      "   -------------------------------------- - 54.7/56.3 MB 6.2 MB/s eta 0:00:01\n",
      "   ---------------------------------------  55.0/56.3 MB 6.3 MB/s eta 0:00:01\n",
      "   ---------------------------------------  55.3/56.3 MB 6.2 MB/s eta 0:00:01\n",
      "   ---------------------------------------  55.7/56.3 MB 6.3 MB/s eta 0:00:01\n",
      "   ---------------------------------------  55.9/56.3 MB 6.3 MB/s eta 0:00:01\n",
      "   ---------------------------------------  56.2/56.3 MB 6.3 MB/s eta 0:00:01\n",
      "   ---------------------------------------  56.3/56.3 MB 6.2 MB/s eta 0:00:01\n",
      "   ---------------------------------------  56.3/56.3 MB 6.2 MB/s eta 0:00:01\n",
      "   ---------------------------------------  56.3/56.3 MB 6.2 MB/s eta 0:00:01\n",
      "   ---------------------------------------- 56.3/56.3 MB 5.7 MB/s eta 0:00:00\n",
      "Using cached cffi-1.16.0-cp311-cp311-win_amd64.whl (181 kB)\n",
      "Using cached ml_dtypes-0.4.0-cp311-cp311-win_amd64.whl (126 kB)\n",
      "Using cached opt_einsum-3.3.0-py3-none-any.whl (65 kB)\n",
      "Using cached pycparser-2.22-py3-none-any.whl (117 kB)\n",
      "Installing collected packages: flatbuffers, pycparser, protobuf, opt-einsum, ml-dtypes, attrs, absl-py, jaxlib, CFFI, sounddevice, jax, mediapipe\n",
      "Note: you may need to restart the kernel to use updated packages.\n"
     ]
    },
    {
     "name": "stderr",
     "output_type": "stream",
     "text": [
      "ERROR: Could not install packages due to an OSError: [WinError 32] The process cannot access the file because it is being used by another process: 'C:\\\\Users\\\\sachi\\\\AppData\\\\Local\\\\Packages\\\\PythonSoftwareFoundation.Python.3.11_qbz5n2kfra8p0\\\\LocalCache\\\\local-packages\\\\Python311\\\\site-packages\\\\jax\\\\extend\\\\core\\\\primitives.py'\n",
      "Check the permissions.\n",
      "\n",
      "\n",
      "[notice] A new release of pip is available: 24.0 -> 24.2\n",
      "[notice] To update, run: C:\\Users\\sachi\\AppData\\Local\\Microsoft\\WindowsApps\\PythonSoftwareFoundation.Python.3.11_qbz5n2kfra8p0\\python.exe -m pip install --upgrade pip\n"
     ]
    }
   ],
   "source": [
    "pip install mediapipe"
   ]
  },
  {
   "cell_type": "markdown",
   "metadata": {},
   "source": [
    "# Image Reading"
   ]
  },
  {
   "cell_type": "code",
   "execution_count": 1,
   "metadata": {},
   "outputs": [],
   "source": [
    "# Importing Libaries\n",
    "import numpy as np\n",
    "import cv2"
   ]
  },
  {
   "cell_type": "markdown",
   "metadata": {},
   "source": [
    "Reading and Showing the images"
   ]
  },
  {
   "cell_type": "code",
   "execution_count": 2,
   "metadata": {},
   "outputs": [],
   "source": [
    "# Read an image\n",
    "#\"imread\" used to laod tha specific image from the directory\n",
    "image = cv2.imread('./Photos/cat.jpg') \n",
    "\n",
    "# \"imshow\" used to display the image \n",
    "# The first image variable will be title shown on image window\n",
    "# The second parameter is the image variable\n",
    "cv2.imshow('Cat', image)\n",
    "\n",
    "# Waitkey is for time the image window will be open\n",
    "# By leaving blank it just waits for anykey to be pressed continuing\n",
    "# By placing number(except 0), we can specify a delay how long you keeep the window open \n",
    "cv2.waitKey()\n",
    "\n",
    "# It will close the window\n",
    "# Failure to place will cause your program to hang\n",
    "cv2.destroyAllWindows()"
   ]
  },
  {
   "cell_type": "markdown",
   "metadata": {},
   "source": [
    "images are stored"
   ]
  },
  {
   "cell_type": "code",
   "execution_count": 3,
   "metadata": {},
   "outputs": [
    {
     "name": "stdout",
     "output_type": "stream",
     "text": [
      "(427, 640, 3)\n"
     ]
    }
   ],
   "source": [
    "# \".shape\" will show (height(pixels),width(pixels),number of channels)\n",
    "\n",
    "print(image.shape)"
   ]
  },
  {
   "cell_type": "code",
   "execution_count": 4,
   "metadata": {},
   "outputs": [
    {
     "name": "stdout",
     "output_type": "stream",
     "text": [
      "Height of Image: 427 pixels\n",
      "Width of Image: 640 pixels\n"
     ]
    }
   ],
   "source": [
    "# print each dimensions of the image\n",
    "\n",
    "print('Height of Image:', int(image.shape[0]), 'pixels') \n",
    "print('Width of Image:', int(image.shape[1]), 'pixels')"
   ]
  },
  {
   "cell_type": "code",
   "execution_count": 5,
   "metadata": {},
   "outputs": [
    {
     "data": {
      "text/plain": [
       "True"
      ]
     },
     "execution_count": 5,
     "metadata": {},
     "output_type": "execute_result"
    }
   ],
   "source": [
    "# Simply use 'imwrite' specificing the file name and the image to be saved\n",
    "\n",
    "cv2.imwrite('output.jpg', image)\n",
    "cv2.imwrite('output.png', image)"
   ]
  },
  {
   "cell_type": "markdown",
   "metadata": {},
   "source": [
    "## Video Reading"
   ]
  },
  {
   "cell_type": "code",
   "execution_count": 6,
   "metadata": {},
   "outputs": [],
   "source": [
    "capture = cv2.VideoCapture(\"./Videos/dog.mp4\")\n",
    "\n",
    "# Starts an infinte loop which will used to read and display frames until certain consition meet\n",
    "while True:\n",
    "    isTrue, frame = capture.read()\n",
    "    \n",
    "    cv2.imshow('Video', frame)\n",
    "\n",
    "    if cv2.waitKey(20) & 0xFF==ord('d'):\n",
    "        break\n",
    "\n",
    "capture.release()\n",
    "cv2.destroyAllWindows()"
   ]
  },
  {
   "cell_type": "code",
   "execution_count": 7,
   "metadata": {},
   "outputs": [],
   "source": [
    "video = cv2.VideoCapture(\"./Videos/kitten.mp4\")\n",
    "\n",
    "while True:\n",
    "    success , img =video.read()\n",
    "    \n",
    "    cv2.imshow(\"Video\", img)\n",
    "\n",
    "    if cv2.waitKey(1) & 0xFF ==ord(\"c\"):\n",
    "        \n",
    "        break\n",
    "\n",
    "\n",
    "video.release()\n",
    "cv2.destroyAllWindows()"
   ]
  }
 ],
 "metadata": {
  "kernelspec": {
   "display_name": "Python 3",
   "language": "python",
   "name": "python3"
  },
  "language_info": {
   "codemirror_mode": {
    "name": "ipython",
    "version": 3
   },
   "file_extension": ".py",
   "mimetype": "text/x-python",
   "name": "python",
   "nbconvert_exporter": "python",
   "pygments_lexer": "ipython3",
   "version": "3.11.9"
  }
 },
 "nbformat": 4,
 "nbformat_minor": 2
}
