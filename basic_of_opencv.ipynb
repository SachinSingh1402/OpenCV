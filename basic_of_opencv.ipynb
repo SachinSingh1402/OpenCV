{
 "cells": [
  {
   "cell_type": "code",
   "execution_count": 4,
   "metadata": {},
   "outputs": [],
   "source": [
    "# Importing Libaries\n",
    "import numpy as np\n",
    "import cv2"
   ]
  },
  {
   "cell_type": "code",
   "execution_count": 5,
   "metadata": {},
   "outputs": [],
   "source": [
    "# Read an image\n",
    "#\"imread\" used to laod tha specific image from the directory\n",
    "image = cv2.imread('Photos/cat.jpg') \n",
    "\n",
    "# \"imshow\" used to display the image \n",
    "# The first image variable will be title shown on image window\n",
    "# The second parameter is the image variable\n",
    "cv2.imshow('Cat', image)\n",
    "\n",
    "# Waitkey is for time the image window will be open\n",
    "# By leaving blank it just waits for anykey to be pressed continuing\n",
    "# By placing number(except 0), we can specify a delay how long you keeep the window open \n",
    "cv2.waitKey()\n",
    "\n",
    "# It will close the window\n",
    "# Failure to place will cause your program to hang\n",
    "cv2.destroyAllWindows()"
   ]
  },
  {
   "cell_type": "code",
   "execution_count": 6,
   "metadata": {},
   "outputs": [
    {
     "name": "stdout",
     "output_type": "stream",
     "text": [
      "(427, 640)\n"
     ]
    },
    {
     "data": {
      "text/plain": [
       "32"
      ]
     },
     "execution_count": 6,
     "metadata": {},
     "output_type": "execute_result"
    },
    {
     "ename": "",
     "evalue": "",
     "output_type": "error",
     "traceback": [
      "\u001b[1;31mThe Kernel crashed while executing code in the current cell or a previous cell. \n",
      "\u001b[1;31mPlease review the code in the cell(s) to identify a possible cause of the failure. \n",
      "\u001b[1;31mClick <a href='https://aka.ms/vscodeJupyterKernelCrash'>here</a> for more info. \n",
      "\u001b[1;31mView Jupyter <a href='command:jupyter.viewOutput'>log</a> for further details."
     ]
    }
   ],
   "source": [
    "# Converting the image into grayscale\n",
    "import cv2\n",
    "\n",
    "img = cv2.imread(\"Photos/cat.jpg\")\n",
    "\n",
    "img_gray = cv2.cvtColor(img, cv2.COLOR_BGR2GRAY)\n",
    "\n",
    "print(img_gray.shape)\n",
    "\n",
    "cv2.imshow(\"window\", img_gray)\n",
    "cv2.waitKey()"
   ]
  },
  {
   "cell_type": "markdown",
   "metadata": {},
   "source": [
    "### playing with RGB"
   ]
  },
  {
   "cell_type": "code",
   "execution_count": 2,
   "metadata": {},
   "outputs": [
    {
     "data": {
      "text/plain": [
       "-1"
      ]
     },
     "execution_count": 2,
     "metadata": {},
     "output_type": "execute_result"
    }
   ],
   "source": [
    "import cv2\n",
    "\n",
    "img = cv2.imread(\"Photos/cat.jpg\")\n",
    "\n",
    "# It a 3D numpy array\n",
    "# We make 1 channel which is blue is complete 0\n",
    "img[:,:,0]=0\n",
    "\n",
    "cv2.imshow(\"window\", img)\n",
    "cv2.waitKey()"
   ]
  },
  {
   "cell_type": "code",
   "execution_count": 9,
   "metadata": {},
   "outputs": [
    {
     "data": {
      "text/plain": [
       "-1"
      ]
     },
     "execution_count": 9,
     "metadata": {},
     "output_type": "execute_result"
    }
   ],
   "source": [
    "import cv2\n",
    "\n",
    "img = cv2.imread(\"Photos/cats.jpg\")\n",
    "\n",
    "imgBlue = img[:,:,0]\n",
    "imgGreen = img[:,:,1]\n",
    "imgRed = img[:,:,2]\n",
    "\n",
    "# stack is use to see the image next to each other\n",
    "new_img = np.hstack((imgBlue,imgGreen,imgRed))\n",
    "\n",
    "cv2.imshow(\"window\", new_img)\n",
    "cv2.waitKey(0)"
   ]
  },
  {
   "cell_type": "markdown",
   "metadata": {},
   "source": [
    "### image Resizing"
   ]
  },
  {
   "cell_type": "code",
   "execution_count": 13,
   "metadata": {},
   "outputs": [
    {
     "name": "stdout",
     "output_type": "stream",
     "text": [
      "(256, 256, 3)\n"
     ]
    },
    {
     "data": {
      "text/plain": [
       "-1"
      ]
     },
     "execution_count": 13,
     "metadata": {},
     "output_type": "execute_result"
    }
   ],
   "source": [
    "import cv2\n",
    "\n",
    "img = cv2.imread(\"Photos/cats.jpg\")\n",
    "\n",
    "img_resize = cv2.resize(img,(256,256))\n",
    "\n",
    "cv2.imshow(\"window\",img_resize)\n",
    "\n",
    "print(img_resize.shape)\n",
    "\n",
    "cv2.waitKey()"
   ]
  },
  {
   "cell_type": "code",
   "execution_count": 14,
   "metadata": {},
   "outputs": [
    {
     "name": "stdout",
     "output_type": "stream",
     "text": [
      "(214, 320, 3)\n"
     ]
    },
    {
     "data": {
      "text/plain": [
       "-1"
      ]
     },
     "execution_count": 14,
     "metadata": {},
     "output_type": "execute_result"
    }
   ],
   "source": [
    "# image size is unknow and resize image in precentage\n",
    "import cv2\n",
    "\n",
    "img = cv2.imread(\"Photos/cats.jpg\")\n",
    "\n",
    "img_resize = cv2.resize(img,(img.shape[1]//2,img.shape[0]//2))\n",
    "\n",
    "cv2.imshow(\"window\",img_resize)\n",
    "\n",
    "print(img_resize.shape)\n",
    "\n",
    "cv2.waitKey()"
   ]
  },
  {
   "cell_type": "markdown",
   "metadata": {},
   "source": [
    "### flipping the img"
   ]
  },
  {
   "cell_type": "code",
   "execution_count": 16,
   "metadata": {},
   "outputs": [
    {
     "data": {
      "text/plain": [
       "-1"
      ]
     },
     "execution_count": 16,
     "metadata": {},
     "output_type": "execute_result"
    }
   ],
   "source": [
    "\n",
    "import cv2\n",
    "\n",
    "img = cv2.imread(\"Photos/cats.jpg\")\n",
    "\n",
    "# 0 is for horizontal, 1 is for verticle, -1 is mix of both hortizontal and verticle\n",
    "img_flip = cv2.flip(img,1)\n",
    "\n",
    "cv2.imshow(\"Windows\",img_flip)\n",
    "\n",
    "cv2.waitKey()"
   ]
  },
  {
   "cell_type": "markdown",
   "metadata": {},
   "source": [
    "### cropping an img"
   ]
  },
  {
   "cell_type": "code",
   "execution_count": 1,
   "metadata": {},
   "outputs": [
    {
     "data": {
      "text/plain": [
       "13"
      ]
     },
     "execution_count": 1,
     "metadata": {},
     "output_type": "execute_result"
    },
    {
     "ename": "",
     "evalue": "",
     "output_type": "error",
     "traceback": [
      "\u001b[1;31mThe Kernel crashed while executing code in the current cell or a previous cell. \n",
      "\u001b[1;31mPlease review the code in the cell(s) to identify a possible cause of the failure. \n",
      "\u001b[1;31mClick <a href='https://aka.ms/vscodeJupyterKernelCrash'>here</a> for more info. \n",
      "\u001b[1;31mView Jupyter <a href='command:jupyter.viewOutput'>log</a> for further details."
     ]
    }
   ],
   "source": [
    "import cv2\n",
    "\n",
    "img = cv2.imread(\"Photos/cats.jpg\")\n",
    "\n",
    "# in cropping first height and then width are crop \n",
    "img_crop = img[0:300,0:300]\n",
    "\n",
    "cv2.imshow(\"Windows\",img_crop)\n",
    "\n",
    "cv2.waitKey()"
   ]
  },
  {
   "cell_type": "markdown",
   "metadata": {},
   "source": [
    "### Drawing Shapes"
   ]
  },
  {
   "cell_type": "code",
   "execution_count": 12,
   "metadata": {},
   "outputs": [
    {
     "data": {
      "text/plain": [
       "13"
      ]
     },
     "execution_count": 12,
     "metadata": {},
     "output_type": "execute_result"
    },
    {
     "ename": "",
     "evalue": "",
     "output_type": "error",
     "traceback": [
      "\u001b[1;31mThe Kernel crashed while executing code in the current cell or a previous cell. \n",
      "\u001b[1;31mPlease review the code in the cell(s) to identify a possible cause of the failure. \n",
      "\u001b[1;31mClick <a href='https://aka.ms/vscodeJupyterKernelCrash'>here</a> for more info. \n",
      "\u001b[1;31mView Jupyter <a href='command:jupyter.viewOutput'>log</a> for further details."
     ]
    }
   ],
   "source": [
    "import cv2\n",
    "import cv2.text\n",
    "import numpy as np\n",
    "\n",
    "img = np.zeros((512,512,3))\n",
    "\n",
    "# Rectangle\n",
    "# in rectangle we have to provide starting cordinate and ending cordinate and then color in BGR and thickness\n",
    "# thickness is -1 then color get fill \n",
    "cv2.rectangle(img,pt1=(100,100),pt2=(300,300),color=(255,0,0),thickness=3)\n",
    "\n",
    "# Circle\n",
    "cv2.circle(img,center=(100,400),radius=50,color=(0,0,255),thickness=-1)\n",
    "\n",
    "# Line\n",
    "cv2.line(img,pt1=(0,0),pt2=(512,512),color=(0,255,0),thickness=2)\n",
    "\n",
    "# Text\n",
    "cv2.putText(img,org=(100,100),fontScale=4,color=(0,255,255),thickness=2,lineType=cv2.LINE_AA,text=\"Hello\",fontFace=cv2.FONT_ITALIC)\n",
    "\n",
    "cv2.imshow('window',img)\n",
    "\n",
    "cv2.waitKey(0)"
   ]
  },
  {
   "cell_type": "markdown",
   "metadata": {},
   "source": [
    "### Working with OpenCV Event"
   ]
  },
  {
   "cell_type": "code",
   "execution_count": 2,
   "metadata": {},
   "outputs": [
    {
     "name": "stdout",
     "output_type": "stream",
     "text": [
      "Event triggered\n",
      "Event triggered\n",
      "Event triggered\n",
      "Event triggered\n",
      "Event triggered\n",
      "Event triggered\n",
      "Event triggered\n",
      "Event triggered\n",
      "Event triggered\n",
      "Event triggered\n",
      "Event triggered\n",
      "Event triggered\n",
      "Event triggered\n",
      "Event triggered\n",
      "Event triggered\n",
      "Event triggered\n",
      "Event triggered\n",
      "Event triggered\n",
      "Event triggered\n",
      "Event triggered\n",
      "Event triggered\n",
      "Event triggered\n",
      "Event triggered\n",
      "Event triggered\n",
      "Event triggered\n",
      "Event triggered\n",
      "Event triggered\n",
      "Event triggered\n",
      "Event triggered\n",
      "Event triggered\n",
      "Event triggered\n",
      "Event triggered\n",
      "Event triggered\n",
      "Event triggered\n",
      "Event triggered\n",
      "Event triggered\n",
      "Event triggered\n",
      "Event triggered\n",
      "Event triggered\n",
      "Event triggered\n",
      "Event triggered\n",
      "Event triggered\n",
      "Event triggered\n",
      "Event triggered\n",
      "Event triggered\n",
      "Event triggered\n",
      "Event triggered\n",
      "Event triggered\n",
      "Event triggered\n",
      "Event triggered\n",
      "Event triggered\n",
      "Event triggered\n",
      "Event triggered\n",
      "Event triggered\n",
      "Event triggered\n",
      "Event triggered\n",
      "Event triggered\n",
      "Event triggered\n",
      "Event triggered\n",
      "Event triggered\n",
      "Event triggered\n",
      "Event triggered\n",
      "Event triggered\n",
      "Event triggered\n",
      "Event triggered\n",
      "Event triggered\n",
      "Event triggered\n",
      "Event triggered\n",
      "Event triggered\n",
      "Event triggered\n",
      "Event triggered\n",
      "Event triggered\n",
      "Event triggered\n",
      "Event triggered\n",
      "Event triggered\n",
      "Event triggered\n",
      "Event triggered\n",
      "Event triggered\n",
      "Event triggered\n",
      "Event triggered\n",
      "Event triggered\n",
      "Event triggered\n",
      "Event triggered\n",
      "Event triggered\n",
      "Event triggered\n",
      "Event triggered\n",
      "Event triggered\n",
      "Event triggered\n",
      "Event triggered\n",
      "Event triggered\n",
      "Event triggered\n",
      "Event triggered\n",
      "Event triggered\n",
      "Event triggered\n",
      "Event triggered\n",
      "Event triggered\n",
      "Event triggered\n",
      "Event triggered\n",
      "Event triggered\n",
      "Event triggered\n",
      "Event triggered\n",
      "Event triggered\n",
      "Event triggered\n",
      "Event triggered\n",
      "Event triggered\n",
      "Event triggered\n",
      "Event triggered\n",
      "Event triggered\n",
      "Event triggered\n",
      "Event triggered\n",
      "Event triggered\n",
      "Event triggered\n",
      "Event triggered\n",
      "Event triggered\n",
      "Event triggered\n",
      "Event triggered\n",
      "Event triggered\n",
      "Event triggered\n",
      "Event triggered\n",
      "Event triggered\n",
      "Event triggered\n",
      "Event triggered\n",
      "Event triggered\n",
      "Event triggered\n",
      "Event triggered\n",
      "Event triggered\n",
      "Event triggered\n",
      "Event triggered\n",
      "Event triggered\n",
      "Event triggered\n",
      "Event triggered\n",
      "Event triggered\n",
      "Event triggered\n",
      "Event triggered\n"
     ]
    }
   ],
   "source": [
    "import cv2\n",
    "import numpy as np\n",
    "\n",
    "def draw(event,x,y,flags,params):\n",
    "    print(\"Event triggered\")\n",
    "\n",
    "cv2.namedWindow(winname=\"window\")\n",
    "cv2.setMouseCallback(\"window\",draw)\n",
    "\n",
    "img = np.zeros((512,512,3))\n",
    "\n",
    "while True:\n",
    "    cv2.imshow(\"window\",img)\n",
    "\n",
    "    if cv2.waitKey(1) & 0xFF == ord('x'):\n",
    "        break\n",
    "\n",
    "cv2.destroyAllWindows()"
   ]
  },
  {
   "cell_type": "code",
   "execution_count": 3,
   "metadata": {},
   "outputs": [
    {
     "name": "stdout",
     "output_type": "stream",
     "text": [
      "0\n",
      "0\n",
      "0\n",
      "0\n",
      "0\n",
      "0\n",
      "0\n",
      "0\n",
      "0\n",
      "0\n",
      "0\n",
      "0\n",
      "0\n",
      "0\n",
      "0\n",
      "0\n",
      "0\n",
      "0\n",
      "0\n",
      "0\n",
      "0\n",
      "0\n",
      "0\n",
      "0\n",
      "0\n",
      "0\n",
      "0\n",
      "0\n",
      "0\n",
      "0\n",
      "0\n",
      "0\n",
      "0\n",
      "0\n",
      "0\n",
      "0\n",
      "0\n",
      "0\n",
      "0\n",
      "0\n",
      "0\n",
      "0\n",
      "0\n",
      "0\n",
      "0\n",
      "0\n",
      "0\n",
      "1\n",
      "4\n",
      "0\n",
      "0\n",
      "0\n",
      "0\n",
      "0\n",
      "0\n",
      "0\n",
      "0\n",
      "0\n",
      "0\n",
      "0\n",
      "0\n",
      "0\n",
      "0\n",
      "0\n",
      "1\n",
      "4\n",
      "0\n",
      "1\n",
      "4\n",
      "0\n",
      "1\n",
      "4\n",
      "0\n",
      "1\n",
      "4\n",
      "0\n",
      "7\n",
      "4\n",
      "0\n",
      "0\n",
      "1\n",
      "4\n",
      "0\n",
      "7\n",
      "4\n",
      "1\n",
      "4\n",
      "7\n",
      "0\n",
      "4\n",
      "1\n",
      "4\n",
      "0\n",
      "7\n",
      "4\n",
      "1\n",
      "4\n",
      "7\n",
      "0\n",
      "4\n",
      "1\n",
      "4\n",
      "0\n",
      "7\n",
      "4\n",
      "1\n",
      "4\n",
      "0\n",
      "7\n",
      "4\n",
      "1\n",
      "4\n",
      "0\n",
      "7\n",
      "4\n",
      "1\n",
      "4\n",
      "0\n",
      "7\n",
      "4\n",
      "1\n",
      "4\n",
      "0\n",
      "7\n",
      "4\n",
      "1\n",
      "4\n",
      "0\n"
     ]
    }
   ],
   "source": [
    "import cv2\n",
    "import numpy as np\n",
    "\n",
    "def draw(event,x,y,flags,params):\n",
    "    print(event)\n",
    "\n",
    "cv2.namedWindow(winname=\"window\")\n",
    "cv2.setMouseCallback(\"window\",draw)\n",
    "\n",
    "img = np.zeros((512,512,3))\n",
    "\n",
    "while True:\n",
    "    cv2.imshow(\"window\",img)\n",
    "\n",
    "    if cv2.waitKey(1) & 0xFF == ord('x'):\n",
    "        break\n",
    "\n",
    "cv2.destroyAllWindows()"
   ]
  },
  {
   "cell_type": "code",
   "execution_count": 5,
   "metadata": {},
   "outputs": [],
   "source": [
    "import cv2\n",
    "import numpy as np\n",
    "\n",
    "def draw(event,x,y,flags,params):\n",
    "\n",
    "    if event == 1:\n",
    "        cv2.circle(img,center=(x,y),radius=50,color=(0,0,255),thickness=-1)\n",
    "\n",
    "cv2.namedWindow(winname=\"window\")\n",
    "cv2.setMouseCallback(\"window\",draw)\n",
    "\n",
    "img = np.zeros((512,512,3))\n",
    "\n",
    "while True:\n",
    "    cv2.imshow(\"window\",img)\n",
    "\n",
    "    if cv2.waitKey(1) & 0xFF == ord('x'):\n",
    "        break\n",
    "\n",
    "cv2.destroyAllWindows()"
   ]
  },
  {
   "cell_type": "markdown",
   "metadata": {},
   "source": [
    "drawing rectangle by draging mouse from one point to other"
   ]
  },
  {
   "cell_type": "code",
   "execution_count": 10,
   "metadata": {},
   "outputs": [],
   "source": [
    "import cv2\n",
    "import numpy as np\n",
    "\n",
    "flag = False\n",
    "ix = -1\n",
    "iy = -1\n",
    "\n",
    "def draw(event,x,y,flags,params):\n",
    "\n",
    "    global flag,ix,iy\n",
    "\n",
    "    if event == 1:\n",
    "        flag = True\n",
    "        ix = x\n",
    "        iy = y\n",
    "\n",
    "    elif event == 0:\n",
    "        if flag == True:\n",
    "            cv2.rectangle(img,pt1=(ix,iy),pt2=(x,y),color=(0,255,255),thickness=-1)\n",
    "\n",
    "    elif event == 4:\n",
    "        flag = False\n",
    "        cv2.rectangle(img,pt1=(ix,iy),pt2=(x,y),color=(0,255,255),thickness=-1)\n",
    "\n",
    "cv2.namedWindow(winname=\"window\")\n",
    "cv2.setMouseCallback(\"window\",draw)\n",
    "\n",
    "img = np.zeros((512,512,3))\n",
    "\n",
    "while True:\n",
    "    cv2.imshow(\"window\",img)\n",
    "\n",
    "    if cv2.waitKey(1) & 0xFF == ord('x'):\n",
    "        break\n",
    "\n",
    "cv2.destroyAllWindows()"
   ]
  },
  {
   "cell_type": "markdown",
   "metadata": {},
   "source": [
    "### building a cropping tool"
   ]
  },
  {
   "cell_type": "code",
   "execution_count": 14,
   "metadata": {},
   "outputs": [],
   "source": [
    "import cv2\n",
    "import numpy as np\n",
    "\n",
    "flag = False\n",
    "ix = -1\n",
    "iy = -1\n",
    "\n",
    "def draw(event,x,y,flags,params):\n",
    "\n",
    "    global flag,ix,iy\n",
    "\n",
    "    if event == 1:\n",
    "        flag = True\n",
    "        ix = x\n",
    "        iy = y\n",
    "\n",
    "    # elif event == 0:\n",
    "    #     if flag == True:\n",
    "    #         cv2.rectangle(img,pt1=(ix,iy),pt2=(x,y),color=(0,255,255),thickness=-1)\n",
    "\n",
    "    elif event == 4:\n",
    "\n",
    "        fx = x\n",
    "        fy = y\n",
    "\n",
    "        flag = False\n",
    "        cv2.rectangle(img,pt1=(ix,iy),pt2=(x,y),color=(0,0,0),thickness=1)\n",
    "        # crop tools\n",
    "        cropped = img[iy:fy,ix:fx]\n",
    "        cv2.imshow(\"new_window\",cropped)\n",
    "        cv2.waitKey(0)\n",
    "\n",
    "cv2.namedWindow(winname=\"window\")\n",
    "cv2.setMouseCallback(\"window\",draw)\n",
    "\n",
    "img = cv2.imread(\"Photos/group 1.jpg\")\n",
    "\n",
    "while True:\n",
    "    cv2.imshow(\"window\",img)\n",
    "\n",
    "    if cv2.waitKey(1) & 0xFF == ord('x'):\n",
    "        break\n",
    "\n",
    "cv2.destroyAllWindows()"
   ]
  },
  {
   "cell_type": "markdown",
   "metadata": {},
   "source": [
    "### use camera and record the video and save in the folder "
   ]
  },
  {
   "cell_type": "code",
   "execution_count": 9,
   "metadata": {},
   "outputs": [],
   "source": [
    "import cv2\n",
    "import numpy as np\n",
    "\n",
    "cap = cv2.VideoCapture(0)\n",
    "fourcc = cv2.VideoWriter_fourcc(*'XVID')\n",
    "out = cv2.VideoWriter('output.avi',fourcc, 20.0, (640,480))\n",
    "\n",
    "while True:\n",
    "\n",
    "    ret, frame = cap.read()\n",
    "    out.write(frame)\n",
    "\n",
    "    img_gray = cv2.cvtColor(frame,cv2.COLOR_BGR2GRAY)\n",
    "    \n",
    "    cv2.imshow(\"webcam\",img_gray)\n",
    "    \n",
    "    if cv2.waitKey(1) & 0xFF == ord('x'):\n",
    "        break\n",
    "\n",
    "out.release()\n",
    "cv2.destroyAllWindows()"
   ]
  },
  {
   "cell_type": "code",
   "execution_count": 1,
   "metadata": {},
   "outputs": [],
   "source": [
    "import cv2\n",
    "import numpy as np\n",
    "import time\n",
    "\n",
    "cap = cv2.VideoCapture('output.avi')\n",
    "\n",
    "while True:\n",
    "    ret, frame = cap.read()\n",
    "\n",
    "    time.sleep(1/20)\n",
    "    cv2.imshow(\"Webcam\",frame)\n",
    "    \n",
    "    if cv2.waitKey(1) & 0xFF == ord('x'):\n",
    "        break\n",
    "\n",
    "cv2.destroyAllWindows()\n"
   ]
  }
 ],
 "metadata": {
  "kernelspec": {
   "display_name": "Python 3",
   "language": "python",
   "name": "python3"
  },
  "language_info": {
   "codemirror_mode": {
    "name": "ipython",
    "version": 3
   },
   "file_extension": ".py",
   "mimetype": "text/x-python",
   "name": "python",
   "nbconvert_exporter": "python",
   "pygments_lexer": "ipython3",
   "version": "3.11.9"
  }
 },
 "nbformat": 4,
 "nbformat_minor": 2
}
